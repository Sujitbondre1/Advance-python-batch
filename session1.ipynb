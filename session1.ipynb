{
 "cells": [
  {
   "cell_type": "markdown",
   "id": "165e6521-f15f-4079-bd11-37ec4532db78",
   "metadata": {},
   "source": [
    "# function : Functions are block of code used to perform certain task "
   ]
  },
  {
   "cell_type": "code",
   "execution_count": 2,
   "id": "d24b5196-f100-4139-84d0-e8c0f3b0ff76",
   "metadata": {},
   "outputs": [],
   "source": [
    "# #Why use functions?\n",
    "# Avoid repetition: Write code once, use it many times.\n",
    "# Improve organization: Makes code easier to read and maintain.\n",
    "# Divide big problems: Break complex tasks into smaller, manageable parts."
   ]
  },
  {
   "cell_type": "code",
   "execution_count": 3,
   "id": "805dc9fc-d1a0-405e-ab5b-63d79734788b",
   "metadata": {},
   "outputs": [],
   "source": [
    "# function has two parts\n",
    "# 1)defining a function\n",
    "# 2)invoking / calling a function "
   ]
  },
  {
   "cell_type": "code",
   "execution_count": 4,
   "id": "69c73a7d-acff-4a1a-a513-44bc48c758e9",
   "metadata": {},
   "outputs": [],
   "source": [
    "def greet():\n",
    "    print('Welcome to real world')"
   ]
  },
  {
   "cell_type": "code",
   "execution_count": 5,
   "id": "9b2abfa1-e9d6-4b20-92d1-7e00be09938f",
   "metadata": {},
   "outputs": [],
   "source": [
    "# invoked a function"
   ]
  },
  {
   "cell_type": "code",
   "execution_count": 6,
   "id": "7eaff79f-8192-49a1-8e10-52e91d0c8163",
   "metadata": {},
   "outputs": [
    {
     "name": "stdout",
     "output_type": "stream",
     "text": [
      "Welcome to real world\n"
     ]
    }
   ],
   "source": [
    "greet()"
   ]
  },
  {
   "cell_type": "code",
   "execution_count": 7,
   "id": "4f6c5f61-fc48-4bf0-91a8-8922b640ae82",
   "metadata": {},
   "outputs": [
    {
     "name": "stdout",
     "output_type": "stream",
     "text": [
      "Welcome to real world\n"
     ]
    }
   ],
   "source": [
    "greet()"
   ]
  },
  {
   "cell_type": "code",
   "execution_count": 8,
   "id": "4f3ce88f-a20c-4159-9502-3245a54b2351",
   "metadata": {},
   "outputs": [],
   "source": [
    "# print numbers from 1 to 10 using function "
   ]
  },
  {
   "cell_type": "code",
   "execution_count": 9,
   "id": "2566807c-18b0-447f-babd-ca479551d0f3",
   "metadata": {},
   "outputs": [],
   "source": [
    "def print_numbers():\n",
    "    for i in range(1,11):\n",
    "        print(i)"
   ]
  },
  {
   "cell_type": "code",
   "execution_count": 11,
   "id": "05e27b96-41a7-40b9-8045-9904c1010755",
   "metadata": {},
   "outputs": [
    {
     "name": "stdout",
     "output_type": "stream",
     "text": [
      "1\n",
      "2\n",
      "3\n",
      "4\n",
      "5\n",
      "6\n",
      "7\n",
      "8\n",
      "9\n",
      "10\n"
     ]
    }
   ],
   "source": [
    "print_numbers()"
   ]
  },
  {
   "cell_type": "code",
   "execution_count": 12,
   "id": "270a5207-98ee-44cc-9393-1374d8bd6584",
   "metadata": {},
   "outputs": [],
   "source": [
    "# Add two numbers using function"
   ]
  },
  {
   "cell_type": "code",
   "execution_count": 17,
   "id": "3739f93f-198e-4bb9-9dd5-baabeeee098a",
   "metadata": {},
   "outputs": [],
   "source": [
    "def addition(a,b):\n",
    "    print('Addition=',a+b)"
   ]
  },
  {
   "cell_type": "code",
   "execution_count": 18,
   "id": "12cd15fb-5a53-48a6-b87a-ab6e4287e500",
   "metadata": {},
   "outputs": [
    {
     "name": "stdout",
     "output_type": "stream",
     "text": [
      "Addition= 30\n"
     ]
    }
   ],
   "source": [
    "addition(10,20)"
   ]
  },
  {
   "cell_type": "code",
   "execution_count": 19,
   "id": "48979863-e8f7-4557-989b-f5de312762ab",
   "metadata": {},
   "outputs": [],
   "source": [
    "# print table of any number taking number from user input "
   ]
  },
  {
   "cell_type": "code",
   "execution_count": 20,
   "id": "117d6976-59c9-4d4e-be1d-c1f1c8cc57c4",
   "metadata": {},
   "outputs": [],
   "source": [
    "def print_tab(n): \n",
    "    for i in range(1,11):\n",
    "        print(n*i)"
   ]
  },
  {
   "cell_type": "code",
   "execution_count": 22,
   "id": "174d3be1-8cdc-49a0-9266-37d14eda5ec4",
   "metadata": {},
   "outputs": [
    {
     "name": "stdin",
     "output_type": "stream",
     "text": [
      "Enter A number 2\n"
     ]
    },
    {
     "name": "stdout",
     "output_type": "stream",
     "text": [
      "2\n",
      "4\n",
      "6\n",
      "8\n",
      "10\n",
      "12\n",
      "14\n",
      "16\n",
      "18\n",
      "20\n"
     ]
    }
   ],
   "source": [
    "num=int(input('Enter A number'))\n",
    "print_tab(num)"
   ]
  },
  {
   "cell_type": "code",
   "execution_count": 23,
   "id": "6147a686-3f06-486e-910d-e5d786ab7c23",
   "metadata": {},
   "outputs": [],
   "source": [
    "# ➢ Write a function in python to output cube of given numbers from a list."
   ]
  },
  {
   "cell_type": "code",
   "execution_count": 24,
   "id": "0266016b-e851-4dcc-a471-0c93f91fe578",
   "metadata": {},
   "outputs": [],
   "source": [
    "l1=[2,3,4,5,6,7,8]"
   ]
  },
  {
   "cell_type": "code",
   "execution_count": 25,
   "id": "91de65d2-22e8-45ac-aa1b-bedc791de2d0",
   "metadata": {},
   "outputs": [],
   "source": [
    "def cal_cube(l1):\n",
    "    for i in l1:\n",
    "        print(i*i*i)"
   ]
  },
  {
   "cell_type": "code",
   "execution_count": 26,
   "id": "16ebfd75-0b10-4b07-934f-53212ed87688",
   "metadata": {},
   "outputs": [
    {
     "name": "stdout",
     "output_type": "stream",
     "text": [
      "8\n",
      "27\n",
      "64\n",
      "125\n",
      "216\n",
      "343\n",
      "512\n"
     ]
    }
   ],
   "source": [
    "cal_cube(l1)"
   ]
  },
  {
   "cell_type": "code",
   "execution_count": 27,
   "id": "6f821c3a-f564-4717-9890-327117c97dc6",
   "metadata": {},
   "outputs": [],
   "source": [
    "# Write a function in python to calculate sum of all elements inside a list"
   ]
  },
  {
   "cell_type": "code",
   "execution_count": 29,
   "id": "acb3acba-e36e-4f28-ad78-d9c52d089f88",
   "metadata": {},
   "outputs": [],
   "source": [
    "def sum_all(l1):\n",
    "    s=0\n",
    "    for i in l1:\n",
    "       s=s+i\n",
    "    print(s)"
   ]
  },
  {
   "cell_type": "code",
   "execution_count": 31,
   "id": "9b342aa2-b2dd-4156-a443-d7f3c0b8a120",
   "metadata": {},
   "outputs": [
    {
     "name": "stdout",
     "output_type": "stream",
     "text": [
      "35\n"
     ]
    }
   ],
   "source": [
    "sum_all(l1)"
   ]
  },
  {
   "cell_type": "code",
   "execution_count": 32,
   "id": "cafb3dba-5c50-436d-b87b-18b0bf024c65",
   "metadata": {},
   "outputs": [],
   "source": [
    "# Write a function in python that calculates area of triangle when 3 sides are given."
   ]
  },
  {
   "cell_type": "code",
   "execution_count": 33,
   "id": "f872ca36-7f84-4d1b-93d0-ae1b0ed232a2",
   "metadata": {},
   "outputs": [],
   "source": [
    "def cal_triangle(s1,s2,s3):\n",
    "    sp=(s1+s2+s3)/2\n",
    "    area=(sp*(sp-s1)*(sp-s2)*(sp-s3))**0.5\n",
    "    print(f'Area of triangle s1,s2 and s3 is {area}')"
   ]
  },
  {
   "cell_type": "code",
   "execution_count": 34,
   "id": "2d34afaf-7379-448b-b338-3659a1d5945d",
   "metadata": {},
   "outputs": [
    {
     "name": "stdout",
     "output_type": "stream",
     "text": [
      "Area of triangle s1,s2 and s3 is 78.92678569408487\n"
     ]
    }
   ],
   "source": [
    "cal_triangle(15,14,12)"
   ]
  },
  {
   "cell_type": "code",
   "execution_count": 35,
   "id": "4a258c8d-672c-4867-850e-7fae9b8ac01c",
   "metadata": {},
   "outputs": [
    {
     "name": "stdout",
     "output_type": "stream",
     "text": [
      "Area of triangle s1,s2 and s3 is 0.0\n"
     ]
    }
   ],
   "source": [
    "cal_triangle(1,5,6)"
   ]
  },
  {
   "cell_type": "code",
   "execution_count": 36,
   "id": "9454f613-32e6-4288-85b6-941a4a380518",
   "metadata": {},
   "outputs": [],
   "source": [
    "# ➢Write a function in python which takes 3 sides and determines whether 3 sides form triangle or "
   ]
  },
  {
   "cell_type": "code",
   "execution_count": 4,
   "id": "1810203c-d486-4fc2-9551-89e185111334",
   "metadata": {},
   "outputs": [],
   "source": [
    "def verify_triangle(a,b,c):\n",
    "    if a<b+c and b<a+c and c<a+b:\n",
    "        print('All te three sides from triangle')\n",
    "    else:\n",
    "        print('Three sides doesn not from triangle')"
   ]
  },
  {
   "cell_type": "code",
   "execution_count": 5,
   "id": "7960fa59-cffd-4d13-a8ed-b5e9ddfb33c5",
   "metadata": {},
   "outputs": [
    {
     "name": "stdout",
     "output_type": "stream",
     "text": [
      "All te three sides from triangle\n"
     ]
    }
   ],
   "source": [
    "verify_triangle(5,4,3)"
   ]
  },
  {
   "cell_type": "code",
   "execution_count": 6,
   "id": "1b69d3b3-aefc-4c24-b268-b3156509d100",
   "metadata": {},
   "outputs": [],
   "source": [
    "# Write a function in python to calculate total words used in given sentence."
   ]
  },
  {
   "cell_type": "code",
   "execution_count": 7,
   "id": "817259cd-328b-46ae-8763-7f778f42a557",
   "metadata": {},
   "outputs": [],
   "source": [
    "sen='India is my country'"
   ]
  },
  {
   "cell_type": "code",
   "execution_count": 9,
   "id": "188176db-6386-4061-9f3b-c056bd1d9d8d",
   "metadata": {},
   "outputs": [
    {
     "data": {
      "text/plain": [
       "19"
      ]
     },
     "execution_count": 9,
     "metadata": {},
     "output_type": "execute_result"
    }
   ],
   "source": [
    "len(sen)"
   ]
  },
  {
   "cell_type": "code",
   "execution_count": 10,
   "id": "318d4a51-a1c0-4c5d-ae98-7f8d17a7e411",
   "metadata": {},
   "outputs": [],
   "source": [
    "sp=sen.split(' ')"
   ]
  },
  {
   "cell_type": "code",
   "execution_count": 11,
   "id": "ebbb118e-f145-4b2c-9432-243dffc8b50c",
   "metadata": {},
   "outputs": [
    {
     "data": {
      "text/plain": [
       "['India', 'is', 'my', 'country']"
      ]
     },
     "execution_count": 11,
     "metadata": {},
     "output_type": "execute_result"
    }
   ],
   "source": [
    "sp"
   ]
  },
  {
   "cell_type": "code",
   "execution_count": 12,
   "id": "cdc1a039-7c10-47ed-9785-a42a0f05ca55",
   "metadata": {},
   "outputs": [
    {
     "data": {
      "text/plain": [
       "4"
      ]
     },
     "execution_count": 12,
     "metadata": {},
     "output_type": "execute_result"
    }
   ],
   "source": [
    "len(sp)\n"
   ]
  },
  {
   "cell_type": "code",
   "execution_count": 13,
   "id": "ac8c10e4-f526-4aa9-8d89-0e3568168df1",
   "metadata": {},
   "outputs": [],
   "source": [
    "def cal_words(w):\n",
    "    split_words=w.split(' ')\n",
    "    total_words=len(split_words)\n",
    "    print(f\"Total words in my sentence is {total_words}\")"
   ]
  },
  {
   "cell_type": "code",
   "execution_count": 14,
   "id": "75dc7e6a-5948-4d4e-a4e6-1d278422fed6",
   "metadata": {},
   "outputs": [
    {
     "name": "stdout",
     "output_type": "stream",
     "text": [
      "Total words in my sentence is 9\n"
     ]
    }
   ],
   "source": [
    "cal_words('Hii I am learning data analytics in Etlhive institute')\n"
   ]
  },
  {
   "cell_type": "code",
   "execution_count": 15,
   "id": "3d9114a6-ccac-423d-be6e-8f5871f10ea5",
   "metadata": {},
   "outputs": [],
   "source": [
    "# Generator function\n",
    "# ➢ Write a function in python to generate Fibonacci Series"
   ]
  },
  {
   "cell_type": "code",
   "execution_count": 16,
   "id": "d6ba5734-a7b1-418a-a220-0c979a6bac84",
   "metadata": {},
   "outputs": [],
   "source": [
    "# 0,1,1,2,3,5,8,13,21,34,55,89\n"
   ]
  },
  {
   "cell_type": "code",
   "execution_count": 17,
   "id": "22d0d830-5011-4390-9828-3c49c135314d",
   "metadata": {},
   "outputs": [],
   "source": [
    "# while loop \n",
    "# 1)initialisation\n",
    "# 2)condition checking\n",
    "# 3)incre/decre\n"
   ]
  },
  {
   "cell_type": "code",
   "execution_count": 18,
   "id": "07530a1a-e28a-44ef-9e6e-5422b029033a",
   "metadata": {},
   "outputs": [
    {
     "name": "stdout",
     "output_type": "stream",
     "text": [
      "1\n",
      "2\n",
      "3\n",
      "4\n",
      "5\n",
      "6\n",
      "7\n",
      "8\n",
      "9\n",
      "10\n"
     ]
    }
   ],
   "source": [
    "i=1\n",
    "while i<=10:\n",
    "    print(i)\n",
    "    i=i+1"
   ]
  },
  {
   "cell_type": "code",
   "execution_count": 19,
   "id": "ccd8378d-2a1c-4285-970d-88b818ddbe0b",
   "metadata": {},
   "outputs": [],
   "source": [
    "# print table of any number\n"
   ]
  },
  {
   "cell_type": "code",
   "execution_count": 20,
   "id": "906733f4-1128-478f-b62d-9794f6cdfd08",
   "metadata": {},
   "outputs": [
    {
     "name": "stdin",
     "output_type": "stream",
     "text": [
      "Enter a number 22\n"
     ]
    },
    {
     "name": "stdout",
     "output_type": "stream",
     "text": [
      "22\n",
      "44\n",
      "66\n",
      "88\n",
      "110\n",
      "132\n",
      "154\n",
      "176\n",
      "198\n",
      "220\n"
     ]
    }
   ],
   "source": [
    "i=1\n",
    "n=int(input('Enter a number'))\n",
    "while i<=10:\n",
    "    print(n*i)\n",
    "    i=i+1"
   ]
  },
  {
   "cell_type": "code",
   "execution_count": 21,
   "id": "e6223b9f-187b-4217-838e-6d0796c76cbb",
   "metadata": {},
   "outputs": [],
   "source": [
    "# fabonacci series "
   ]
  },
  {
   "cell_type": "code",
   "execution_count": 22,
   "id": "9fb75278-3f0d-452d-9cec-02f2afcc3d8d",
   "metadata": {},
   "outputs": [
    {
     "name": "stdout",
     "output_type": "stream",
     "text": [
      "0\n",
      "1\n",
      "1\n",
      "2\n",
      "3\n",
      "5\n",
      "8\n",
      "13\n"
     ]
    }
   ],
   "source": [
    "a=0\n",
    "b=1\n",
    "c=0\n",
    "i=1\n",
    "while i<=8:\n",
    "    print(c)\n",
    "    a=b\n",
    "    b=c\n",
    "    c=a+b\n",
    "    i=i+1\n",
    "# a=0,b=1,c=0\n",
    "# 0,1,1,2\n",
    "# a=1\n",
    "# b=0\n",
    "# c=1\n",
    "\n",
    "# a=0\n",
    "# b=1\n",
    "# c=1\n",
    "\n",
    "# a=1\n",
    "# b=1\n",
    "# c=2"
   ]
  },
  {
   "cell_type": "code",
   "execution_count": 23,
   "id": "e6388ea6-b753-48d9-8b34-37bfafdb0032",
   "metadata": {},
   "outputs": [],
   "source": [
    "# two types in generator\n",
    "# 1)yield\n",
    "# 2)next()"
   ]
  },
  {
   "cell_type": "code",
   "execution_count": 24,
   "id": "a0caae44-2cef-42af-a4b2-032c00d6d7f4",
   "metadata": {},
   "outputs": [],
   "source": [
    "def cal_fabonacci():\n",
    "    a,b=1,0\n",
    "    while True:\n",
    "        a,b=b,a+b\n",
    "        yield a"
   ]
  },
  {
   "cell_type": "code",
   "execution_count": 25,
   "id": "b1651c0e-f9b6-4831-91c9-aa2722e1aedf",
   "metadata": {},
   "outputs": [],
   "source": [
    "data=cal_fabonacci()\n"
   ]
  },
  {
   "cell_type": "code",
   "execution_count": 26,
   "id": "e45769d9-fc61-4343-98e4-c1a1bf83f7d4",
   "metadata": {},
   "outputs": [
    {
     "name": "stdout",
     "output_type": "stream",
     "text": [
      "0\n",
      "1\n",
      "1\n",
      "2\n"
     ]
    }
   ],
   "source": [
    "for i in range(1,5):\n",
    "    print(next(data))"
   ]
  },
  {
   "cell_type": "code",
   "execution_count": 27,
   "id": "a586c3ab-cf63-40c8-829d-0999dc3cb658",
   "metadata": {},
   "outputs": [],
   "source": [
    "# lambda function = used for small calculation \n"
   ]
  },
  {
   "cell_type": "code",
   "execution_count": 28,
   "id": "0711604f-ef15-4958-b9a3-e3431a54944c",
   "metadata": {},
   "outputs": [],
   "source": [
    "add= lambda a,b:a+b\n"
   ]
  },
  {
   "cell_type": "code",
   "execution_count": 29,
   "id": "591912c5-7b66-4702-aa28-e60574f3adcc",
   "metadata": {},
   "outputs": [
    {
     "data": {
      "text/plain": [
       "9"
      ]
     },
     "execution_count": 29,
     "metadata": {},
     "output_type": "execute_result"
    }
   ],
   "source": [
    "add(4,5)\n"
   ]
  },
  {
   "cell_type": "code",
   "execution_count": 30,
   "id": "12eea661-7fcb-4699-8a95-2cdbc507ef20",
   "metadata": {},
   "outputs": [],
   "source": [
    "sq=lambda n:n*n\n"
   ]
  },
  {
   "cell_type": "code",
   "execution_count": 31,
   "id": "b8088b4d-cebe-40e5-bb74-7d03a37f3937",
   "metadata": {},
   "outputs": [
    {
     "data": {
      "text/plain": [
       "25"
      ]
     },
     "execution_count": 31,
     "metadata": {},
     "output_type": "execute_result"
    }
   ],
   "source": [
    "sq(5)\n"
   ]
  },
  {
   "cell_type": "code",
   "execution_count": 32,
   "id": "723d5e40-5eb1-4c07-9838-e9816f4e55cc",
   "metadata": {},
   "outputs": [],
   "source": [
    "# Map Function \n"
   ]
  },
  {
   "cell_type": "code",
   "execution_count": 33,
   "id": "1d93baa8-2e87-4cf3-910e-a91751327806",
   "metadata": {},
   "outputs": [],
   "source": [
    "lst=[1,2,2,3,4,5,6,7,8,910,12,13,14]\n"
   ]
  },
  {
   "cell_type": "code",
   "execution_count": 34,
   "id": "1f4ab78b-d9ba-4038-a52f-85562b701a41",
   "metadata": {},
   "outputs": [],
   "source": [
    "def sq(x):\n",
    "    return x*x"
   ]
  },
  {
   "cell_type": "code",
   "execution_count": 35,
   "id": "9edc25cd-0b41-4815-936d-5f86cd127857",
   "metadata": {},
   "outputs": [],
   "source": [
    "cal_sq=map(sq,lst)\n"
   ]
  },
  {
   "cell_type": "code",
   "execution_count": 36,
   "id": "7c1498e4-4d3d-4cae-90f1-294eec818602",
   "metadata": {},
   "outputs": [
    {
     "data": {
      "text/plain": [
       "[1, 4, 4, 9, 16, 25, 36, 49, 64, 828100, 144, 169, 196]"
      ]
     },
     "execution_count": 36,
     "metadata": {},
     "output_type": "execute_result"
    }
   ],
   "source": [
    "list(cal_sq)\n"
   ]
  },
  {
   "cell_type": "code",
   "execution_count": 37,
   "id": "53a31aab-350d-42ae-b629-99dc0f2bd4a6",
   "metadata": {},
   "outputs": [],
   "source": [
    "# calculate cube\n"
   ]
  },
  {
   "cell_type": "code",
   "execution_count": 38,
   "id": "7401f103-9b8a-4f5f-bb9b-29fa740eb87d",
   "metadata": {},
   "outputs": [],
   "source": [
    "def cb(i):\n",
    "    return i*i*i\n"
   ]
  },
  {
   "cell_type": "code",
   "execution_count": 39,
   "id": "81d42682-182c-4574-923a-97891a622974",
   "metadata": {},
   "outputs": [],
   "source": [
    "l1=[1,2,3,4,5]\n"
   ]
  },
  {
   "cell_type": "code",
   "execution_count": 40,
   "id": "c1e60ec1-b223-437d-a81b-7347e0bb4b01",
   "metadata": {},
   "outputs": [],
   "source": [
    "cal_cube=map(cb,l1)\n"
   ]
  },
  {
   "cell_type": "code",
   "execution_count": 41,
   "id": "5c7f3a20-9941-478c-b726-1fa42720c80e",
   "metadata": {},
   "outputs": [
    {
     "data": {
      "text/plain": [
       "[1, 8, 27, 64, 125]"
      ]
     },
     "execution_count": 41,
     "metadata": {},
     "output_type": "execute_result"
    }
   ],
   "source": [
    "list(cal_cube)\n"
   ]
  },
  {
   "cell_type": "code",
   "execution_count": 1,
   "id": "a371304c-706a-4325-8379-85bbcc7bb85a",
   "metadata": {},
   "outputs": [],
   "source": [
    "# Practice Questions"
   ]
  },
  {
   "cell_type": "code",
   "execution_count": 2,
   "id": "3eb7bc3d-7853-49f3-ac7e-0be012b8b04f",
   "metadata": {},
   "outputs": [],
   "source": [
    "# 1) write a function in python to add 2 numbers\n",
    "# 2) write a function in python to output cube of given nnumber\n",
    "# 3) write a function in python to output cube of given number from list\n",
    "# 4) write a function in python to caculate sum of all elements inside a list\n",
    "# 5) write a function in python to calculate hypotenuse of right angle triangle\n",
    "# 6) write a function in python which takes three sides and determines whether 3 sides trianle or not\n",
    "# 7) write a function in python that calculate area of triangle when 3 sides are given \n",
    "# 8) write a function in python that calculate total wordsused in given sentence\n"
   ]
  },
  {
   "cell_type": "code",
   "execution_count": null,
   "id": "3013f56a-d926-4368-b5c5-f40f5d18d25d",
   "metadata": {},
   "outputs": [],
   "source": []
  }
 ],
 "metadata": {
  "kernelspec": {
   "display_name": "Python 3 (ipykernel)",
   "language": "python",
   "name": "python3"
  },
  "language_info": {
   "codemirror_mode": {
    "name": "ipython",
    "version": 3
   },
   "file_extension": ".py",
   "mimetype": "text/x-python",
   "name": "python",
   "nbconvert_exporter": "python",
   "pygments_lexer": "ipython3",
   "version": "3.13.5"
  }
 },
 "nbformat": 4,
 "nbformat_minor": 5
}
